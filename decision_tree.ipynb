{
  "nbformat": 4,
  "nbformat_minor": 0,
  "metadata": {
    "colab": {
      "name": "decision tree.ipynb",
      "provenance": []
    },
    "kernelspec": {
      "name": "python3",
      "display_name": "Python 3"
    },
    "language_info": {
      "name": "python"
    }
  },
  "cells": [
    {
      "cell_type": "code",
      "metadata": {
        "colab": {
          "base_uri": "https://localhost:8080/"
        },
        "id": "Bld9CVx4ZZAA",
        "outputId": "21a92292-4c7d-49ae-e927-16f7fd6f630a"
      },
      "source": [
        "from google.colab import drive\n",
        "drive.mount('/content/drive')"
      ],
      "execution_count": 1,
      "outputs": [
        {
          "output_type": "stream",
          "name": "stdout",
          "text": [
            "Drive already mounted at /content/drive; to attempt to forcibly remount, call drive.mount(\"/content/drive\", force_remount=True).\n"
          ]
        }
      ]
    },
    {
      "cell_type": "code",
      "metadata": {
        "colab": {
          "base_uri": "https://localhost:8080/"
        },
        "id": "etYyf3K9Yauk",
        "outputId": "5cff1848-47a6-436f-b452-366dd57066c5"
      },
      "source": [
        "\n",
        "import numpy as np\n",
        "import pandas as pd\n",
        "data=pd.read_csv('/content/drive/MyDrive/dataset/train.csv')\n",
        "data=data.loc[:,['Gender', 'Married', 'Education','Self_Employed', 'Credit_History']].fillna('NA')\n",
        "class Root:\n",
        "  def __init__(self,val=None):\n",
        "    self.val=val\n",
        "    self.child=[]\n",
        "    self.feature_cat=[]\n",
        "    self.flag=0\n",
        "class DecisionTreeClassifer(Root):\n",
        "  def distribution(self,x):\n",
        "    dic={}\n",
        "    for element in x:\n",
        "      if element not in dic.keys():\n",
        "        dic[element]=1\n",
        "      else:\n",
        "        dic[element]+=1\n",
        "      return dic.values()\n",
        "\n",
        "  '''def gini(x):\n",
        "    p = x.value_counts()/x.shape[0]\n",
        "    gini_val = 1-np.sum(p**2)\n",
        "    return(gini_val)'''\n",
        "\n",
        "  def entropy(self,x):\n",
        "    n=x.shape[0]\n",
        "    x=np.array(list(self.distribution(x)))/n\n",
        "    #return np.multiply(-np.log2(x),x)\n",
        "    return np.sum(-np.log2(x)*x)\n",
        "  def entropy_feature(self,x):\n",
        "    ent=0\n",
        "    for element in x.iloc[:,0].unique():\n",
        "      t=x.loc[x.iloc[:,0]==element,x.columns[-1]]\n",
        "      ent+=(self.entropy(t)*t.shape[0]/x.shape[0])\n",
        "    return ent\n",
        "  def tree(self,data,root):\n",
        "    if data.shape[1]==1:\n",
        "      maximum=0\n",
        "      feature=None\n",
        "      for cat in data.iloc[:,0].unique():\n",
        "        t=data.loc[data.iloc[:,0]==cat,:].shape[0]\n",
        "        if maximum<t:\n",
        "          maximum=t\n",
        "          feature=cat\n",
        "      root.val=feature\n",
        "      root.flag=1\n",
        "      return\n",
        "    ent_list=[]\n",
        "    for i in range(data.shape[1]-1):\n",
        "      ent_list.append(self.entropy_feature(data.iloc[:,[i,-1]]))\n",
        "    ent_list=np.array(ent_list)\n",
        "    f=ent_list.argmin()\n",
        "    root.val=data.columns[f]\n",
        "    for cat in data.iloc[:,f].unique():\n",
        "      new_data=data.loc[data.iloc[:,f]==cat,list(data.columns[:f])+list(data.columns[f+1:])]\n",
        "      new_child=Root()\n",
        "      root.child.append(new_child)\n",
        "      root.feature_cat.append(cat)\n",
        "      self.tree(new_data,new_child)\n",
        "  def print_tree(self):\n",
        "    decision_tree=self.root\n",
        "    queue=[decision_tree]\n",
        "    while len(queue)!=0:\n",
        "      next=[]\n",
        "      current=[]\n",
        "      while len(queue)!=0:\n",
        "        current.append(queue.pop(0))\n",
        "        next.extend(current[-1].child)\n",
        "      queue.extend(next)\n",
        "      for element in current:\n",
        "        if element.flag==0:\n",
        "          for e in element.feature_cat:\n",
        "            print('|',str(element.val),'=',e,end='|\\t\\t')\n",
        "        else:\n",
        "          print('|',element.val,'|',end='\\t')\n",
        "      print('\\n')\n",
        "  def fit(self,data):\n",
        "    self.root=Root()\n",
        "    self.tree(data,self.root)\n",
        "  def test(self,data):\n",
        "    root=self.root\n",
        "    t=0\n",
        "    for row in range(data.shape[0]):\n",
        "      while 1:\n",
        "        if root.flag==0:\n",
        "          i=0\n",
        "          while root.feature_cat[i]!=data.loc[row,root.val]:\n",
        "            i+=1\n",
        "          root=root.child[i]\n",
        "        else:\n",
        "          #print(root.val)\n",
        "          if root.val==data.iloc[row,-1]:\n",
        "            t+=1\n",
        "          break\n",
        "    print('Accuracy = ',100*t/data.shape[0])\n",
        "tree=DecisionTreeClassifer()\n",
        "tree.fit(data)\n",
        "tree.print_tree()\n",
        "test_data=pd.read_csv('/content/drive/MyDrive/dataset/test.csv')\n",
        "test_data=test_data.loc[:,['Gender', 'Married', 'Education','Self_Employed', 'Credit_History']].fillna('NA')\n",
        "tree.test(test_data)"
      ],
      "execution_count": 9,
      "outputs": [
        {
          "output_type": "stream",
          "name": "stdout",
          "text": [
            "| Education = Graduate|\t\t| Education = Not Graduate|\t\t\n",
            "\n",
            "| Married = No|\t\t| Married = Yes|\t\t| Married = NA|\t\t| Gender = Male|\t\t| Gender = NA|\t\t| Gender = Female|\t\t\n",
            "\n",
            "| Gender = Male|\t\t| Gender = Female|\t\t| Gender = NA|\t\t| Gender = Male|\t\t| Gender = Female|\t\t| Gender = NA|\t\t| Gender = Male|\t\t| Gender = Female|\t\t| Married = Yes|\t\t| Married = No|\t\t| Married = Yes|\t\t| Married = Yes|\t\t| Married = No|\t\t\n",
            "\n",
            "| Self_Employed = No|\t\t| Self_Employed = Yes|\t\t| Self_Employed = NA|\t\t| Self_Employed = No|\t\t| Self_Employed = NA|\t\t| Self_Employed = Yes|\t\t| Self_Employed = No|\t\t| Self_Employed = Yes|\t\t| Self_Employed = No|\t\t| Self_Employed = Yes|\t\t| Self_Employed = NA|\t\t| Self_Employed = No|\t\t| Self_Employed = Yes|\t\t| Self_Employed = NA|\t\t| Self_Employed = No|\t\t| Self_Employed = Yes|\t\t| Self_Employed = No|\t\t| Self_Employed = No|\t\t| Self_Employed = No|\t\t| Self_Employed = Yes|\t\t| Self_Employed = NA|\t\t| Self_Employed = No|\t\t| Self_Employed = NA|\t\t| Self_Employed = Yes|\t\t| Self_Employed = No|\t\t| Self_Employed = No|\t\t| Self_Employed = Yes|\t\t| Self_Employed = NA|\t\t| Self_Employed = No|\t\t| Self_Employed = Yes|\t\t| Self_Employed = NA|\t\t\n",
            "\n",
            "| 1.0 |\t| 1.0 |\t| 1.0 |\t| 1.0 |\t| 1.0 |\t| 1.0 |\t| 1.0 |\t| 1.0 |\t| 1.0 |\t| 1.0 |\t| 1.0 |\t| 1.0 |\t| 0.0 |\t| 1.0 |\t| 1.0 |\t| 1.0 |\t| 1.0 |\t| 1.0 |\t| 1.0 |\t| 1.0 |\t| 1.0 |\t| 1.0 |\t| 1.0 |\t| 1.0 |\t| 0.0 |\t| NA |\t| 1.0 |\t| 1.0 |\t| 1.0 |\t| 1.0 |\t| 1.0 |\t\n",
            "\n",
            "Accuracy =  76.02179836512262\n"
          ]
        }
      ]
    }
  ]
}